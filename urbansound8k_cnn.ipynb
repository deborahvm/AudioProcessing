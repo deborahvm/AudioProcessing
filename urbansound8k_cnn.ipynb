{
 "cells": [
  {
   "cell_type": "code",
   "execution_count": null,
   "metadata": {},
   "outputs": [],
   "source": [
    "#Pacotes utilizados\n",
    "import numpy as np\n",
    "import pandas as pd\n",
    "import pickle\n",
    "from sklearn.metrics import accuracy_score, confusion_matrix\n",
    "from keras import models, optimizers, layers, losses, utils\n",
    "from sklearn.ensemble import RandomForestClassifier\n",
    "\n",
    "'''Função que recebe o endereço do pickle e retorna o conteúdo no formado de numpy array'''\n",
    "def read_pickle(name):\n",
    "    with (open(name, 'rb')) as openfile:\n",
    "        while True:\n",
    "            try:\n",
    "                one_instance = pickle.load(openfile)\n",
    "            except EOFError:\n",
    "                break\n",
    "    one_instance = np.asanyarray(one_instance)\n",
    "    return one_instance\n",
    "\n",
    "'''Função que recebe os espectogramas e os labels e transforma para o formato de entrada da rede aceito pelo Keras'''\n",
    "def pre_processing_datas_to_cnn_format(X, y):\n",
    "    X = X.reshape(X.shape[0],X.shape[1],X.shape[2],1)\n",
    "    y = utils.to_categorical(y)\n",
    "    return X, y\n",
    "\n",
    "'''Função que cria a arquitetura de rede'''\n",
    "def create_model(shape_in, num_classes = 10, dropout_value = 0.5):\n",
    "    model = models.Sequential()\n",
    "\n",
    "    #Primeira camada convolucional\n",
    "    model.add(layers.Conv2D(32, kernel_size=(5,5), activation = 'relu', padding='same', input_shape=(shape_in.shape[0],shape_in.shape[1],shape_in.shape[2]), name = 'conv_1'))\n",
    "\n",
    "    #Primeira camada de pooling\n",
    "    model.add(layers.MaxPooling2D(pool_size=(2, 2), strides=(2, 2), name = 'pool_1', padding='same'))\n",
    "    \n",
    "    model.add(layers.BatchNormalization())\n",
    "    \n",
    "    #Segunda camada convolucional\n",
    "    model.add(layers.Conv2D(64, kernel_size=(5,5), activation = 'relu', padding='same', name = 'conv_2'))\n",
    "\n",
    "    #Segunda camada de pooling\n",
    "    model.add(layers.MaxPooling2D(pool_size=(2, 2), strides=(2, 2), name = 'pool_2', padding='same'))\n",
    "    \n",
    "    model.add(layers.BatchNormalization())\n",
    "    \n",
    "    #Terceira camada convolucional\n",
    "    model.add(layers.Conv2D(64, kernel_size=(5,5), activation = 'relu', padding='same', name = 'conv_3'))\n",
    "\n",
    "    #Terceira camada de pooling\n",
    "    model.add(layers.MaxPooling2D(pool_size=(2, 2), strides=(2, 2), name = 'pool_3', padding='same'))\n",
    "    \n",
    "    model.add(layers.BatchNormalization())\n",
    "\n",
    "    model.add(layers.Flatten(name = 'flatten'))\n",
    "    \n",
    "    #Dropout\n",
    "    model.add(layers.Dropout(dropout_value))\n",
    "\n",
    "    #Camada totalmente conectada\n",
    "    model.add(layers.Dense(512, name = 'dense_1', activation='relu'))\n",
    "    \n",
    "    #Dropout\n",
    "    model.add(layers.Dropout(dropout_value))\n",
    "\n",
    "    #Camada de saída\n",
    "    model.add(layers.Dense(num_classes, activation='softmax', name = 'classification'))\n",
    "    \n",
    "    #Para visualizar a arquitetura da rede\n",
    "    model.summary()\n",
    "    return model\n",
    "\n",
    "'''Função que recebe os espectogramas e o endereço do modelo treinado e retorna os características obtidas, que são as saídas da penultima camada da rede'''\n",
    "def extract_features(X_test, path_model):\n",
    "    model = models.load_model(path_model)\n",
    "\n",
    "    intermediate_layer_model = models.Model(inputs=model.input, outputs=model.get_layer(index = -2).output)\n",
    "    features = intermediate_layer_model.predict(X_test)\n",
    "\n",
    "    features = pd.DataFrame(data=features)\n",
    "    \n",
    "    return features"
   ]
  },
  {
   "cell_type": "code",
   "execution_count": null,
   "metadata": {},
   "outputs": [],
   "source": [
    "#Endereços dos pickles contendo os espectogramas e labels\n",
    "path_train = '/data/deborah/UrbanSound8K/log_specs_100_treino.pickle'\n",
    "path_train_labels = '/data/deborah/UrbanSound8K/labels_100_treino.pickle'\n",
    "path_test = '/data/deborah/UrbanSound8K/log_specs_100_teste.pickle'\n",
    "path_test_labels = '/data/deborah/UrbanSound8K/labels_100_teste.pickle'\n",
    "\n",
    "#Nome do modelo que será salvo\n",
    "path_model = 'trained_model_100_augmented.h5'\n",
    "learning_rate = 0.0001\n",
    "epochs = 1\n",
    "batch_size = 128\n",
    "num_classes = 10\n",
    "dropout_value = 0.5\n",
    "decay_=1e-3\n",
    "\n",
    "X_train = read_pickle(path_train)\n",
    "y_train = read_pickle(path_train_labels)\n",
    "X_test = read_pickle(path_test)\n",
    "y_test = read_pickle(path_test_labels)\n",
    "\n",
    "#Transformando os espectogramas e labels\n",
    "X_train, y_train = pre_processing_datas_to_cnn_format(X_train, y_train)\n",
    "X_test, y_test = pre_processing_datas_to_cnn_format(X_test, y_test)"
   ]
  },
  {
   "cell_type": "code",
   "execution_count": null,
   "metadata": {},
   "outputs": [],
   "source": [
    "#Criando o modelo e configurando os parâmetros de treinamento\n",
    "model = models.load_model(path_model)\n",
    "#model = create_model(X_train[0], num_classes, dropout_value)\n",
    "sgd = optimizers.SGD(lr=learning_rate, decay=decay_)\n",
    "model.compile(loss=losses.categorical_crossentropy, optimizer=sgd, metrics=['accuracy'])\n",
    "\n",
    "#Treinamento\n",
    "model.fit(X_train, y_train, validation_data = (X_test, y_test), batch_size=batch_size, epochs=epochs, verbose=1)\n",
    "\n",
    "#Salvando o modelo treinado\n",
    "#model.save(path_model) \n"
   ]
  },
  {
   "cell_type": "code",
   "execution_count": null,
   "metadata": {},
   "outputs": [],
   "source": [
    "#Lendo o modelo salvo após o treinamento\n",
    "model = models.load_model(path_model)\n",
    "\n",
    "#Fazendo a predição dos dados do conjunto de teste com a rede treinada\n",
    "pred = model.predict_classes(X_test)\n",
    "\n",
    "#Imprimindo a acuracia e a matriz de confusão\n",
    "print('Acuracia da rede = ',accuracy_score(pred,np.argmax(y_test,axis=1)))\n",
    "print('Matriz de confusão da rede = \\n', confusion_matrix(pred,np.argmax(y_test,axis=1)))"
   ]
  },
  {
   "cell_type": "code",
   "execution_count": null,
   "metadata": {},
   "outputs": [],
   "source": [
    "#Utilizando a rede treinada para extrair as características dos espectogramas\n",
    "X_train_features = extract_features(X_train,path_model)\n",
    "X_test_features = extract_features(X_test,path_model)\n",
    "\n",
    "#Treinando uma Random Forest\n",
    "clf = RandomForestClassifier(n_estimators=100)\n",
    "clf.fit(X_train_features,np.argmax(y_train,axis=1))\n",
    "\n",
    "#Predição com a Random Forest treinada\n",
    "predicted = clf.predict(X_test_features)\n",
    "\n",
    "#Imprimindo a acuracia e a matriz de confusão\n",
    "print('Acuracia da Random Forest = ',accuracy_score(predicted,np.argmax(y_test,axis=1)))\n",
    "print('Matriz de confusão da Random Forest = \\n',confusion_matrix(predicted,np.argmax(y_test,axis=1)))"
   ]
  },
  {
   "cell_type": "code",
   "execution_count": null,
   "metadata": {},
   "outputs": [],
   "source": []
  },
  {
   "cell_type": "code",
   "execution_count": null,
   "metadata": {},
   "outputs": [],
   "source": []
  },
  {
   "cell_type": "code",
   "execution_count": null,
   "metadata": {},
   "outputs": [],
   "source": []
  },
  {
   "cell_type": "code",
   "execution_count": null,
   "metadata": {},
   "outputs": [],
   "source": []
  },
  {
   "cell_type": "code",
   "execution_count": null,
   "metadata": {},
   "outputs": [],
   "source": [
    "a\n",
    "epochs = 100\n",
    "model.fit(X_train, y_train, validation_data = (X_test, y_test),\n",
    "          batch_size=batch_size, epochs=epochs, verbose=1)\n",
    "\n",
    "model.save(path_model) "
   ]
  },
  {
   "cell_type": "code",
   "execution_count": null,
   "metadata": {},
   "outputs": [],
   "source": [
    "from sklearn.metrics import accuracy_score, confusion_matrix\n",
    "\n",
    "model = models.load_model(path_model)\n",
    "\n",
    "pred = model.predict_classes(X_test)\n",
    "print('Acuracia = ',accuracy_score(pred,np.argmax(y_test,axis=1)))\n",
    "print(confusion_matrix(pred,np.argmax(y_test,axis=1)))"
   ]
  },
  {
   "cell_type": "code",
   "execution_count": null,
   "metadata": {},
   "outputs": [],
   "source": []
  },
  {
   "cell_type": "code",
   "execution_count": null,
   "metadata": {},
   "outputs": [],
   "source": [
    "'''Função que recebe os espectogramas e o endereço do modelo treinado \n",
    "e retorna os características obtidas, que são as saídas da penultima\n",
    "camada da rede'''\n",
    "def extract_features(X_test, path_model):\n",
    "    model = load_model(path_model)\n",
    "\n",
    "    intermediate_layer_model = Model(inputs=model.input,\n",
    "                                     outputs=model.get_layer(index = -2).output)\n",
    "    features = intermediate_layer_model.predict(X_test)\n",
    "\n",
    "    features = pd.DataFrame(data=features)\n",
    "    \n",
    "    return features"
   ]
  },
  {
   "cell_type": "code",
   "execution_count": null,
   "metadata": {},
   "outputs": [],
   "source": [
    "from sklearn.ensemble import RandomForestClassifier\n",
    "\n",
    "X_train = read_pickle(path_train)\n",
    "y_train = read_pickle(path_train_labels)\n",
    "X_test = read_pickle(path_test)\n",
    "y_test = read_pickle(path_test_labels)\n",
    "\n",
    "X_train, _ = pre_processing_datas_to_cnn_format(X_train, y_train)\n",
    "X_test, _ = pre_processing_datas_to_cnn_format(X_test, y_test)\n",
    "\n",
    "X_train_features = extract_features(path_model,X_train,'')\n",
    "X_test_features = extract_features(path_model,X_test,'')\n",
    "\n",
    "clf = RandomForestClassifier(n_estimators=100)\n",
    "clf.fit(X_train_features,y_train)"
   ]
  },
  {
   "cell_type": "code",
   "execution_count": null,
   "metadata": {},
   "outputs": [],
   "source": [
    "predicted = clf.predict(X_test_features)\n",
    "\n",
    "print('Acuracia = ',accuracy_score(predicted,y_test))\n",
    "confusion_matrix(predicted,y_test)"
   ]
  },
  {
   "cell_type": "code",
   "execution_count": null,
   "metadata": {},
   "outputs": [],
   "source": []
  },
  {
   "cell_type": "code",
   "execution_count": null,
   "metadata": {},
   "outputs": [],
   "source": []
  }
 ],
 "metadata": {
  "kernelspec": {
   "display_name": "project",
   "language": "python",
   "name": "project"
  },
  "language_info": {
   "codemirror_mode": {
    "name": "ipython",
    "version": 3
   },
   "file_extension": ".py",
   "mimetype": "text/x-python",
   "name": "python",
   "nbconvert_exporter": "python",
   "pygments_lexer": "ipython3",
   "version": "3.6.3"
  }
 },
 "nbformat": 4,
 "nbformat_minor": 4
}
